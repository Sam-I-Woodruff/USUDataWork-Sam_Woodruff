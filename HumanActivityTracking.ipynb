{
  "nbformat": 4,
  "nbformat_minor": 0,
  "metadata": {
    "colab": {
      "provenance": [],
      "gpuType": "T4",
      "collapsed_sections": [
        "LSR0pQ416HEL",
        "u_bMeKbs7a_s"
      ]
    },
    "kernelspec": {
      "name": "python3",
      "display_name": "Python 3"
    },
    "language_info": {
      "name": "python"
    },
    "accelerator": "GPU"
  },
  "cells": [
    {
      "cell_type": "code",
      "execution_count": 1,
      "metadata": {
        "id": "aJSGP8LwIyl3"
      },
      "outputs": [],
      "source": [
        "from sklearn.preprocessing import LabelEncoder, StandardScaler\n",
        "from sklearn.model_selection import train_test_split\n",
        "from tensorflow.keras.models import Sequential\n",
        "from tensorflow.keras.layers import Dense\n",
        "from tensorflow.keras.utils import to_categorical\n",
        "from tensorflow.keras.layers import Dropout\n",
        "import pandas as pd\n",
        "import numpy as np\n",
        "\n",
        "import matplotlib.pyplot as plt\n",
        "import seaborn as sns\n"
      ]
    },
    {
      "cell_type": "markdown",
      "source": [
        "###Data Exploration\n"
      ],
      "metadata": {
        "id": "6IdRz-BXLctR"
      }
    },
    {
      "cell_type": "markdown",
      "source": [],
      "metadata": {
        "id": "1LZBd5JCLcWH"
      }
    },
    {
      "cell_type": "code",
      "source": [
        "df = pd.read_csv('/content/time_series_data_human_activities.csv')\n",
        "df.head()"
      ],
      "metadata": {
        "colab": {
          "base_uri": "https://localhost:8080/",
          "height": 206
        },
        "id": "yZNdPMhTI-9K",
        "outputId": "98c75721-1e83-467e-a8db-8df8a2b5c263"
      },
      "execution_count": 2,
      "outputs": [
        {
          "output_type": "execute_result",
          "data": {
            "text/plain": [
              "   user activity      timestamp  x-axis  y-axis  z-axis\n",
              "0     1  Walking  4991922345000    0.69   10.80   -2.03\n",
              "1     1  Walking  4991972333000    6.85    7.44   -0.50\n",
              "2     1  Walking  4992022351000    0.93    5.63   -0.50\n",
              "3     1  Walking  4992072339000   -2.11    5.01   -0.69\n",
              "4     1  Walking  4992122358000   -4.59    4.29   -1.95"
            ],
            "text/html": [
              "\n",
              "  <div id=\"df-ef2f3c52-d5d1-4dbc-8171-d449ef720395\" class=\"colab-df-container\">\n",
              "    <div>\n",
              "<style scoped>\n",
              "    .dataframe tbody tr th:only-of-type {\n",
              "        vertical-align: middle;\n",
              "    }\n",
              "\n",
              "    .dataframe tbody tr th {\n",
              "        vertical-align: top;\n",
              "    }\n",
              "\n",
              "    .dataframe thead th {\n",
              "        text-align: right;\n",
              "    }\n",
              "</style>\n",
              "<table border=\"1\" class=\"dataframe\">\n",
              "  <thead>\n",
              "    <tr style=\"text-align: right;\">\n",
              "      <th></th>\n",
              "      <th>user</th>\n",
              "      <th>activity</th>\n",
              "      <th>timestamp</th>\n",
              "      <th>x-axis</th>\n",
              "      <th>y-axis</th>\n",
              "      <th>z-axis</th>\n",
              "    </tr>\n",
              "  </thead>\n",
              "  <tbody>\n",
              "    <tr>\n",
              "      <th>0</th>\n",
              "      <td>1</td>\n",
              "      <td>Walking</td>\n",
              "      <td>4991922345000</td>\n",
              "      <td>0.69</td>\n",
              "      <td>10.80</td>\n",
              "      <td>-2.03</td>\n",
              "    </tr>\n",
              "    <tr>\n",
              "      <th>1</th>\n",
              "      <td>1</td>\n",
              "      <td>Walking</td>\n",
              "      <td>4991972333000</td>\n",
              "      <td>6.85</td>\n",
              "      <td>7.44</td>\n",
              "      <td>-0.50</td>\n",
              "    </tr>\n",
              "    <tr>\n",
              "      <th>2</th>\n",
              "      <td>1</td>\n",
              "      <td>Walking</td>\n",
              "      <td>4992022351000</td>\n",
              "      <td>0.93</td>\n",
              "      <td>5.63</td>\n",
              "      <td>-0.50</td>\n",
              "    </tr>\n",
              "    <tr>\n",
              "      <th>3</th>\n",
              "      <td>1</td>\n",
              "      <td>Walking</td>\n",
              "      <td>4992072339000</td>\n",
              "      <td>-2.11</td>\n",
              "      <td>5.01</td>\n",
              "      <td>-0.69</td>\n",
              "    </tr>\n",
              "    <tr>\n",
              "      <th>4</th>\n",
              "      <td>1</td>\n",
              "      <td>Walking</td>\n",
              "      <td>4992122358000</td>\n",
              "      <td>-4.59</td>\n",
              "      <td>4.29</td>\n",
              "      <td>-1.95</td>\n",
              "    </tr>\n",
              "  </tbody>\n",
              "</table>\n",
              "</div>\n",
              "    <div class=\"colab-df-buttons\">\n",
              "\n",
              "  <div class=\"colab-df-container\">\n",
              "    <button class=\"colab-df-convert\" onclick=\"convertToInteractive('df-ef2f3c52-d5d1-4dbc-8171-d449ef720395')\"\n",
              "            title=\"Convert this dataframe to an interactive table.\"\n",
              "            style=\"display:none;\">\n",
              "\n",
              "  <svg xmlns=\"http://www.w3.org/2000/svg\" height=\"24px\" viewBox=\"0 -960 960 960\">\n",
              "    <path d=\"M120-120v-720h720v720H120Zm60-500h600v-160H180v160Zm220 220h160v-160H400v160Zm0 220h160v-160H400v160ZM180-400h160v-160H180v160Zm440 0h160v-160H620v160ZM180-180h160v-160H180v160Zm440 0h160v-160H620v160Z\"/>\n",
              "  </svg>\n",
              "    </button>\n",
              "\n",
              "  <style>\n",
              "    .colab-df-container {\n",
              "      display:flex;\n",
              "      gap: 12px;\n",
              "    }\n",
              "\n",
              "    .colab-df-convert {\n",
              "      background-color: #E8F0FE;\n",
              "      border: none;\n",
              "      border-radius: 50%;\n",
              "      cursor: pointer;\n",
              "      display: none;\n",
              "      fill: #1967D2;\n",
              "      height: 32px;\n",
              "      padding: 0 0 0 0;\n",
              "      width: 32px;\n",
              "    }\n",
              "\n",
              "    .colab-df-convert:hover {\n",
              "      background-color: #E2EBFA;\n",
              "      box-shadow: 0px 1px 2px rgba(60, 64, 67, 0.3), 0px 1px 3px 1px rgba(60, 64, 67, 0.15);\n",
              "      fill: #174EA6;\n",
              "    }\n",
              "\n",
              "    .colab-df-buttons div {\n",
              "      margin-bottom: 4px;\n",
              "    }\n",
              "\n",
              "    [theme=dark] .colab-df-convert {\n",
              "      background-color: #3B4455;\n",
              "      fill: #D2E3FC;\n",
              "    }\n",
              "\n",
              "    [theme=dark] .colab-df-convert:hover {\n",
              "      background-color: #434B5C;\n",
              "      box-shadow: 0px 1px 3px 1px rgba(0, 0, 0, 0.15);\n",
              "      filter: drop-shadow(0px 1px 2px rgba(0, 0, 0, 0.3));\n",
              "      fill: #FFFFFF;\n",
              "    }\n",
              "  </style>\n",
              "\n",
              "    <script>\n",
              "      const buttonEl =\n",
              "        document.querySelector('#df-ef2f3c52-d5d1-4dbc-8171-d449ef720395 button.colab-df-convert');\n",
              "      buttonEl.style.display =\n",
              "        google.colab.kernel.accessAllowed ? 'block' : 'none';\n",
              "\n",
              "      async function convertToInteractive(key) {\n",
              "        const element = document.querySelector('#df-ef2f3c52-d5d1-4dbc-8171-d449ef720395');\n",
              "        const dataTable =\n",
              "          await google.colab.kernel.invokeFunction('convertToInteractive',\n",
              "                                                    [key], {});\n",
              "        if (!dataTable) return;\n",
              "\n",
              "        const docLinkHtml = 'Like what you see? Visit the ' +\n",
              "          '<a target=\"_blank\" href=https://colab.research.google.com/notebooks/data_table.ipynb>data table notebook</a>'\n",
              "          + ' to learn more about interactive tables.';\n",
              "        element.innerHTML = '';\n",
              "        dataTable['output_type'] = 'display_data';\n",
              "        await google.colab.output.renderOutput(dataTable, element);\n",
              "        const docLink = document.createElement('div');\n",
              "        docLink.innerHTML = docLinkHtml;\n",
              "        element.appendChild(docLink);\n",
              "      }\n",
              "    </script>\n",
              "  </div>\n",
              "\n",
              "\n",
              "<div id=\"df-36d34087-374f-4c40-9db1-b95d5233344a\">\n",
              "  <button class=\"colab-df-quickchart\" onclick=\"quickchart('df-36d34087-374f-4c40-9db1-b95d5233344a')\"\n",
              "            title=\"Suggest charts.\"\n",
              "            style=\"display:none;\">\n",
              "\n",
              "<svg xmlns=\"http://www.w3.org/2000/svg\" height=\"24px\"viewBox=\"0 0 24 24\"\n",
              "     width=\"24px\">\n",
              "    <g>\n",
              "        <path d=\"M19 3H5c-1.1 0-2 .9-2 2v14c0 1.1.9 2 2 2h14c1.1 0 2-.9 2-2V5c0-1.1-.9-2-2-2zM9 17H7v-7h2v7zm4 0h-2V7h2v10zm4 0h-2v-4h2v4z\"/>\n",
              "    </g>\n",
              "</svg>\n",
              "  </button>\n",
              "\n",
              "<style>\n",
              "  .colab-df-quickchart {\n",
              "      --bg-color: #E8F0FE;\n",
              "      --fill-color: #1967D2;\n",
              "      --hover-bg-color: #E2EBFA;\n",
              "      --hover-fill-color: #174EA6;\n",
              "      --disabled-fill-color: #AAA;\n",
              "      --disabled-bg-color: #DDD;\n",
              "  }\n",
              "\n",
              "  [theme=dark] .colab-df-quickchart {\n",
              "      --bg-color: #3B4455;\n",
              "      --fill-color: #D2E3FC;\n",
              "      --hover-bg-color: #434B5C;\n",
              "      --hover-fill-color: #FFFFFF;\n",
              "      --disabled-bg-color: #3B4455;\n",
              "      --disabled-fill-color: #666;\n",
              "  }\n",
              "\n",
              "  .colab-df-quickchart {\n",
              "    background-color: var(--bg-color);\n",
              "    border: none;\n",
              "    border-radius: 50%;\n",
              "    cursor: pointer;\n",
              "    display: none;\n",
              "    fill: var(--fill-color);\n",
              "    height: 32px;\n",
              "    padding: 0;\n",
              "    width: 32px;\n",
              "  }\n",
              "\n",
              "  .colab-df-quickchart:hover {\n",
              "    background-color: var(--hover-bg-color);\n",
              "    box-shadow: 0 1px 2px rgba(60, 64, 67, 0.3), 0 1px 3px 1px rgba(60, 64, 67, 0.15);\n",
              "    fill: var(--button-hover-fill-color);\n",
              "  }\n",
              "\n",
              "  .colab-df-quickchart-complete:disabled,\n",
              "  .colab-df-quickchart-complete:disabled:hover {\n",
              "    background-color: var(--disabled-bg-color);\n",
              "    fill: var(--disabled-fill-color);\n",
              "    box-shadow: none;\n",
              "  }\n",
              "\n",
              "  .colab-df-spinner {\n",
              "    border: 2px solid var(--fill-color);\n",
              "    border-color: transparent;\n",
              "    border-bottom-color: var(--fill-color);\n",
              "    animation:\n",
              "      spin 1s steps(1) infinite;\n",
              "  }\n",
              "\n",
              "  @keyframes spin {\n",
              "    0% {\n",
              "      border-color: transparent;\n",
              "      border-bottom-color: var(--fill-color);\n",
              "      border-left-color: var(--fill-color);\n",
              "    }\n",
              "    20% {\n",
              "      border-color: transparent;\n",
              "      border-left-color: var(--fill-color);\n",
              "      border-top-color: var(--fill-color);\n",
              "    }\n",
              "    30% {\n",
              "      border-color: transparent;\n",
              "      border-left-color: var(--fill-color);\n",
              "      border-top-color: var(--fill-color);\n",
              "      border-right-color: var(--fill-color);\n",
              "    }\n",
              "    40% {\n",
              "      border-color: transparent;\n",
              "      border-right-color: var(--fill-color);\n",
              "      border-top-color: var(--fill-color);\n",
              "    }\n",
              "    60% {\n",
              "      border-color: transparent;\n",
              "      border-right-color: var(--fill-color);\n",
              "    }\n",
              "    80% {\n",
              "      border-color: transparent;\n",
              "      border-right-color: var(--fill-color);\n",
              "      border-bottom-color: var(--fill-color);\n",
              "    }\n",
              "    90% {\n",
              "      border-color: transparent;\n",
              "      border-bottom-color: var(--fill-color);\n",
              "    }\n",
              "  }\n",
              "</style>\n",
              "\n",
              "  <script>\n",
              "    async function quickchart(key) {\n",
              "      const quickchartButtonEl =\n",
              "        document.querySelector('#' + key + ' button');\n",
              "      quickchartButtonEl.disabled = true;  // To prevent multiple clicks.\n",
              "      quickchartButtonEl.classList.add('colab-df-spinner');\n",
              "      try {\n",
              "        const charts = await google.colab.kernel.invokeFunction(\n",
              "            'suggestCharts', [key], {});\n",
              "      } catch (error) {\n",
              "        console.error('Error during call to suggestCharts:', error);\n",
              "      }\n",
              "      quickchartButtonEl.classList.remove('colab-df-spinner');\n",
              "      quickchartButtonEl.classList.add('colab-df-quickchart-complete');\n",
              "    }\n",
              "    (() => {\n",
              "      let quickchartButtonEl =\n",
              "        document.querySelector('#df-36d34087-374f-4c40-9db1-b95d5233344a button');\n",
              "      quickchartButtonEl.style.display =\n",
              "        google.colab.kernel.accessAllowed ? 'block' : 'none';\n",
              "    })();\n",
              "  </script>\n",
              "</div>\n",
              "    </div>\n",
              "  </div>\n"
            ]
          },
          "metadata": {},
          "execution_count": 2
        }
      ]
    },
    {
      "cell_type": "code",
      "source": [
        "df_info = df.info()\n",
        "df_head = df.head()\n",
        "\n",
        "df_info, df_head"
      ],
      "metadata": {
        "colab": {
          "base_uri": "https://localhost:8080/"
        },
        "id": "EJ7H8PNsx2l-",
        "outputId": "821a078c-0fb0-415e-8148-167282daeab8"
      },
      "execution_count": 3,
      "outputs": [
        {
          "output_type": "stream",
          "name": "stdout",
          "text": [
            "<class 'pandas.core.frame.DataFrame'>\n",
            "RangeIndex: 1073623 entries, 0 to 1073622\n",
            "Data columns (total 6 columns):\n",
            " #   Column     Non-Null Count    Dtype  \n",
            "---  ------     --------------    -----  \n",
            " 0   user       1073623 non-null  int64  \n",
            " 1   activity   1073623 non-null  object \n",
            " 2   timestamp  1073623 non-null  int64  \n",
            " 3   x-axis     1073623 non-null  float64\n",
            " 4   y-axis     1073623 non-null  float64\n",
            " 5   z-axis     1073623 non-null  float64\n",
            "dtypes: float64(3), int64(2), object(1)\n",
            "memory usage: 49.1+ MB\n"
          ]
        },
        {
          "output_type": "execute_result",
          "data": {
            "text/plain": [
              "(None,\n",
              "    user activity      timestamp  x-axis  y-axis  z-axis\n",
              " 0     1  Walking  4991922345000    0.69   10.80   -2.03\n",
              " 1     1  Walking  4991972333000    6.85    7.44   -0.50\n",
              " 2     1  Walking  4992022351000    0.93    5.63   -0.50\n",
              " 3     1  Walking  4992072339000   -2.11    5.01   -0.69\n",
              " 4     1  Walking  4992122358000   -4.59    4.29   -1.95)"
            ]
          },
          "metadata": {},
          "execution_count": 3
        }
      ]
    },
    {
      "cell_type": "code",
      "source": [
        "df.shape"
      ],
      "metadata": {
        "colab": {
          "base_uri": "https://localhost:8080/"
        },
        "id": "hLcfw2C7x-i-",
        "outputId": "22a2f432-0dd2-498d-8d86-4b3080c970df"
      },
      "execution_count": 4,
      "outputs": [
        {
          "output_type": "execute_result",
          "data": {
            "text/plain": [
              "(1073623, 6)"
            ]
          },
          "metadata": {},
          "execution_count": 4
        }
      ]
    },
    {
      "cell_type": "code",
      "source": [
        "df_sampled = df.sample(frac=0.2, random_state=42) #Saving only 20% randomly"
      ],
      "metadata": {
        "id": "Ek2GL9ZHyEAS"
      },
      "execution_count": 5,
      "outputs": []
    },
    {
      "cell_type": "code",
      "source": [
        "df_sampled.shape"
      ],
      "metadata": {
        "colab": {
          "base_uri": "https://localhost:8080/"
        },
        "id": "ze85lCkAyMfg",
        "outputId": "6c75bb66-01a5-4541-fc49-8d73289eb32a"
      },
      "execution_count": 6,
      "outputs": [
        {
          "output_type": "execute_result",
          "data": {
            "text/plain": [
              "(214725, 6)"
            ]
          },
          "metadata": {},
          "execution_count": 6
        }
      ]
    },
    {
      "cell_type": "code",
      "source": [
        "df_sampled['activity'].nunique()"
      ],
      "metadata": {
        "colab": {
          "base_uri": "https://localhost:8080/"
        },
        "id": "B6e7MSlVKOuG",
        "outputId": "4a511af8-f348-4629-c41e-70f36b7f4973"
      },
      "execution_count": 7,
      "outputs": [
        {
          "output_type": "execute_result",
          "data": {
            "text/plain": [
              "6"
            ]
          },
          "metadata": {},
          "execution_count": 7
        }
      ]
    },
    {
      "cell_type": "code",
      "source": [
        "df['activity'].value_counts()"
      ],
      "metadata": {
        "colab": {
          "base_uri": "https://localhost:8080/"
        },
        "id": "xxig0KVqKOkc",
        "outputId": "8d3ec56e-c76b-4832-e0d9-34ca49bc140a"
      },
      "execution_count": 8,
      "outputs": [
        {
          "output_type": "execute_result",
          "data": {
            "text/plain": [
              "Walking       417901\n",
              "Jogging       324600\n",
              "Upstairs      122598\n",
              "Downstairs    100192\n",
              "Sitting        59939\n",
              "Standing       48393\n",
              "Name: activity, dtype: int64"
            ]
          },
          "metadata": {},
          "execution_count": 8
        }
      ]
    },
    {
      "cell_type": "code",
      "source": [
        "df_sampled['activity'].value_counts()"
      ],
      "metadata": {
        "colab": {
          "base_uri": "https://localhost:8080/"
        },
        "id": "3f4pQGcDyQ-K",
        "outputId": "b5b7019c-6997-4c5d-ee7a-b4e2b42782cf"
      },
      "execution_count": 9,
      "outputs": [
        {
          "output_type": "execute_result",
          "data": {
            "text/plain": [
              "Walking       83418\n",
              "Jogging       65138\n",
              "Upstairs      24350\n",
              "Downstairs    20129\n",
              "Sitting       12099\n",
              "Standing       9591\n",
              "Name: activity, dtype: int64"
            ]
          },
          "metadata": {},
          "execution_count": 9
        }
      ]
    },
    {
      "cell_type": "code",
      "source": [
        "plt.figure(figsize=(15, 10))\n",
        "\n",
        "# Plot the distribution of activities\n",
        "plt.subplot(2, 2, 1)\n",
        "sns.countplot(data=df_sampled, x='activity', order=df_sampled['activity'].value_counts().index)\n",
        "plt.title('Activity Distribution')\n",
        "plt.xticks(rotation=45)\n",
        "\n",
        "# Plot the distribution of x-axis, y-axis, and z-axis sensor data\n",
        "for idx, axis in enumerate(['x-axis', 'y-axis', 'z-axis'], 2):\n",
        "    plt.subplot(2, 2, idx)\n",
        "    sns.histplot(df_sampled[axis], bins=50)\n",
        "    plt.title(f'{axis} Distribution')\n",
        "\n",
        "plt.tight_layout()\n",
        "plt.show()"
      ],
      "metadata": {
        "colab": {
          "base_uri": "https://localhost:8080/",
          "height": 1000
        },
        "id": "LhIbMfTf23Ob",
        "outputId": "73e4346a-cd75-411c-ab9c-495431cff839"
      },
      "execution_count": 10,
      "outputs": [
        {
          "output_type": "display_data",
          "data": {
            "text/plain": [
              "<Figure size 1500x1000 with 4 Axes>"
            ],
            "image/png": "[encoded data removed]"
          },
          "metadata": {}
        }
      ]
    },
    {
      "cell_type": "code",
      "source": [
        "label_encoder = LabelEncoder()\n",
        "df_sampled['activity_encoded'] = label_encoder.fit_transform(df_sampled['activity'])"
      ],
      "metadata": {
        "id": "UvPFNjwmZgal"
      },
      "execution_count": 11,
      "outputs": []
    },
    {
      "cell_type": "code",
      "source": [
        "scaler = StandardScaler()\n",
        "scaled_features = scaler.fit_transform(df_sampled[['x-axis', 'y-axis', 'z-axis']])"
      ],
      "metadata": {
        "id": "fg0cwWBnzbix"
      },
      "execution_count": 12,
      "outputs": []
    },
    {
      "cell_type": "code",
      "source": [
        "X = scaled_features\n",
        "y = to_categorical(df_sampled['activity_encoded'])"
      ],
      "metadata": {
        "id": "Za-EEFFOzwDW"
      },
      "execution_count": 13,
      "outputs": []
    },
    {
      "cell_type": "code",
      "source": [
        "#Splitting Test, Validation, and Training Data\n",
        "X_train, X_temp, y_train, y_temp = train_test_split(X, y, test_size=0.3, random_state=42)\n",
        "X_val, X_test, y_val, y_test = train_test_split(X_temp, y_temp, test_size=0.5, random_state=42)"
      ],
      "metadata": {
        "id": "2dnBHxunzz-p"
      },
      "execution_count": 14,
      "outputs": []
    },
    {
      "cell_type": "markdown",
      "source": [
        "###Ran with only 20% Data and using dropout layer to prevent overfitting"
      ],
      "metadata": {
        "id": "LSR0pQ416HEL"
      }
    },
    {
      "cell_type": "code",
      "source": [
        "#feed-forward model\n",
        "model = Sequential()\n",
        "model.add(Dense(128, activation='relu', input_shape=(X_train.shape[1],)))\n",
        "model.add(Dropout(0.2)) #Dropout layer wiht 20% drop out rate\n",
        "model.add(Dense(128, activation='relu'))\n",
        "model.add(Dropout(0.2))\n",
        "model.add(Dense(64, activation='relu'))\n",
        "model.add(Dense(y_train.shape[1], activation='softmax'))"
      ],
      "metadata": {
        "id": "OLAkiA3u0IFO"
      },
      "execution_count": 15,
      "outputs": []
    },
    {
      "cell_type": "code",
      "source": [
        "#This compiles the model\n",
        "model.compile(optimizer='adam', loss='categorical_crossentropy', metrics=['accuracy'])"
      ],
      "metadata": {
        "id": "U1_0dIQO0NdZ"
      },
      "execution_count": 16,
      "outputs": []
    },
    {
      "cell_type": "code",
      "source": [
        "#Training Data\n",
        "model.fit(X_train, y_train, epochs=8, batch_size=24, validation_data=(X_val, y_val))"
      ],
      "metadata": {
        "id": "uBGhyj430PTR",
        "colab": {
          "base_uri": "https://localhost:8080/"
        },
        "outputId": "b24766fb-aea5-4669-cf27-5cda8c32d5dc"
      },
      "execution_count": 17,
      "outputs": [
        {
          "output_type": "stream",
          "name": "stdout",
          "text": [
            "Epoch 1/8\n",
            "6263/6263 [==============================] - 46s 6ms/step - loss: 1.0940 - accuracy: 0.5797 - val_loss: 1.0256 - val_accuracy: 0.6076\n",
            "Epoch 2/8\n",
            "6263/6263 [==============================] - 32s 5ms/step - loss: 1.0283 - accuracy: 0.6025 - val_loss: 1.0042 - val_accuracy: 0.6126\n",
            "Epoch 3/8\n",
            "6263/6263 [==============================] - 31s 5ms/step - loss: 1.0149 - accuracy: 0.6079 - val_loss: 0.9898 - val_accuracy: 0.6143\n",
            "Epoch 4/8\n",
            "6263/6263 [==============================] - 30s 5ms/step - loss: 1.0065 - accuracy: 0.6097 - val_loss: 0.9922 - val_accuracy: 0.6172\n",
            "Epoch 5/8\n",
            "6263/6263 [==============================] - 33s 5ms/step - loss: 1.0020 - accuracy: 0.6117 - val_loss: 0.9842 - val_accuracy: 0.6213\n",
            "Epoch 6/8\n",
            "6263/6263 [==============================] - 30s 5ms/step - loss: 0.9976 - accuracy: 0.6138 - val_loss: 0.9784 - val_accuracy: 0.6201\n",
            "Epoch 7/8\n",
            "6263/6263 [==============================] - 32s 5ms/step - loss: 0.9958 - accuracy: 0.6153 - val_loss: 0.9803 - val_accuracy: 0.6211\n",
            "Epoch 8/8\n",
            "6263/6263 [==============================] - 29s 5ms/step - loss: 0.9935 - accuracy: 0.6156 - val_loss: 0.9768 - val_accuracy: 0.6225\n"
          ]
        },
        {
          "output_type": "execute_result",
          "data": {
            "text/plain": [
              "<keras.src.callbacks.History at 0x78fce851e410>"
            ]
          },
          "metadata": {},
          "execution_count": 17
        }
      ]
    },
    {
      "cell_type": "code",
      "source": [
        "#Trying two more epochs to see\n",
        "model.fit(X_train, y_train, epochs=2, batch_size=24, validation_data=(X_val, y_val))"
      ],
      "metadata": {
        "id": "85fRdisS5meQ",
        "colab": {
          "base_uri": "https://localhost:8080/"
        },
        "outputId": "5bf5ced8-ea35-477c-a284-88aa986cdcb5"
      },
      "execution_count": 18,
      "outputs": [
        {
          "output_type": "stream",
          "name": "stdout",
          "text": [
            "Epoch 1/2\n",
            "6263/6263 [==============================] - 32s 5ms/step - loss: 0.9903 - accuracy: 0.6167 - val_loss: 0.9781 - val_accuracy: 0.6212\n",
            "Epoch 2/2\n",
            "6263/6263 [==============================] - 32s 5ms/step - loss: 0.9885 - accuracy: 0.6173 - val_loss: 0.9737 - val_accuracy: 0.6244\n"
          ]
        },
        {
          "output_type": "execute_result",
          "data": {
            "text/plain": [
              "<keras.src.callbacks.History at 0x78fcbc6a6350>"
            ]
          },
          "metadata": {},
          "execution_count": 18
        }
      ]
    },
    {
      "cell_type": "markdown",
      "source": [
        "###Model trained with 50% of original data, no dropout layers"
      ],
      "metadata": {
        "id": "u_bMeKbs7a_s"
      }
    },
    {
      "cell_type": "code",
      "source": [
        "df_sampled_50 = df.sample(frac=0.5, random_state=42) #Saving 50% randomly\n",
        "\n",
        "label_encoder = LabelEncoder()\n",
        "df_sampled_50['activity_encoded'] = label_encoder.fit_transform(df_sampled_50['activity'])\n",
        "\n",
        "scaler = StandardScaler()\n",
        "scaled_features = scaler.fit_transform(df_sampled_50[['x-axis', 'y-axis', 'z-axis']])\n",
        "\n",
        "X = scaled_features\n",
        "y = to_categorical(df_sampled_50['activity_encoded'])\n",
        "\n",
        "X_train, X_temp, y_train, y_temp = train_test_split(X, y, test_size=0.3, random_state=42)\n",
        "X_val, X_test, y_val, y_test = train_test_split(X_temp, y_temp, test_size=0.5, random_state=42)\n",
        "\n",
        "model_2 = Sequential()\n",
        "model_2.add(Dense(128, activation='relu', input_shape=(X_train.shape[1],)))\n",
        "model_2.add(Dense(64, activation='relu'))\n",
        "model_2.add(Dense(y_train.shape[1], activation='softmax'))\n",
        "\n",
        "model_2.compile(optimizer='adam', loss='categorical_crossentropy', metrics=['accuracy'])"
      ],
      "metadata": {
        "id": "n5vLtpoI6bER"
      },
      "execution_count": 19,
      "outputs": []
    },
    {
      "cell_type": "code",
      "source": [
        "model_2.fit(X_train, y_train, epochs=10, batch_size=32, validation_data=(X_val, y_val))"
      ],
      "metadata": {
        "colab": {
          "base_uri": "https://localhost:8080/"
        },
        "id": "igB5E03g7XIQ",
        "outputId": "75e125f9-5232-46eb-9876-0dc90eb8b1b2"
      },
      "execution_count": 20,
      "outputs": [
        {
          "output_type": "stream",
          "name": "stdout",
          "text": [
            "Epoch 1/10\n",
            "11743/11743 [==============================] - 61s 5ms/step - loss: 1.0426 - accuracy: 0.6000 - val_loss: 1.0087 - val_accuracy: 0.6144\n",
            "Epoch 2/10\n",
            "11743/11743 [==============================] - 51s 4ms/step - loss: 0.9889 - accuracy: 0.6193 - val_loss: 0.9833 - val_accuracy: 0.6203\n",
            "Epoch 3/10\n",
            "11743/11743 [==============================] - 65s 6ms/step - loss: 0.9804 - accuracy: 0.6216 - val_loss: 0.9773 - val_accuracy: 0.6238\n",
            "Epoch 4/10\n",
            "11743/11743 [==============================] - 52s 4ms/step - loss: 0.9752 - accuracy: 0.6236 - val_loss: 0.9761 - val_accuracy: 0.6221\n",
            "Epoch 5/10\n",
            "11743/11743 [==============================] - 58s 5ms/step - loss: 0.9713 - accuracy: 0.6246 - val_loss: 0.9723 - val_accuracy: 0.6238\n",
            "Epoch 6/10\n",
            "11743/11743 [==============================] - 56s 5ms/step - loss: 0.9680 - accuracy: 0.6259 - val_loss: 0.9672 - val_accuracy: 0.6263\n",
            "Epoch 7/10\n",
            "11743/11743 [==============================] - 50s 4ms/step - loss: 0.9657 - accuracy: 0.6270 - val_loss: 0.9675 - val_accuracy: 0.6244\n",
            "Epoch 8/10\n",
            "11743/11743 [==============================] - 52s 4ms/step - loss: 0.9642 - accuracy: 0.6274 - val_loss: 0.9711 - val_accuracy: 0.6226\n",
            "Epoch 9/10\n",
            "11743/11743 [==============================] - 50s 4ms/step - loss: 0.9621 - accuracy: 0.6282 - val_loss: 0.9642 - val_accuracy: 0.6258\n",
            "Epoch 10/10\n",
            "11743/11743 [==============================] - 52s 4ms/step - loss: 0.9604 - accuracy: 0.6283 - val_loss: 0.9636 - val_accuracy: 0.6267\n"
          ]
        },
        {
          "output_type": "execute_result",
          "data": {
            "text/plain": [
              "<keras.src.callbacks.History at 0x78fce851c5e0>"
            ]
          },
          "metadata": {},
          "execution_count": 20
        }
      ]
    },
    {
      "cell_type": "code",
      "source": [
        "#It kept learning by the end so let's try some more epochs!\n",
        "model_2.fit(X_train, y_train, epochs=3, batch_size=32, validation_data=(X_val, y_val))"
      ],
      "metadata": {
        "colab": {
          "base_uri": "https://localhost:8080/"
        },
        "id": "8ZF3rb6Q9mMG",
        "outputId": "b69b213a-83ca-437a-eb49-258fdb27b6c1"
      },
      "execution_count": 21,
      "outputs": [
        {
          "output_type": "stream",
          "name": "stdout",
          "text": [
            "Epoch 1/3\n",
            "11743/11743 [==============================] - 52s 4ms/step - loss: 0.9592 - accuracy: 0.6288 - val_loss: 0.9644 - val_accuracy: 0.6259\n",
            "Epoch 2/3\n",
            "11743/11743 [==============================] - 56s 5ms/step - loss: 0.9579 - accuracy: 0.6289 - val_loss: 0.9621 - val_accuracy: 0.6266\n",
            "Epoch 3/3\n",
            "11743/11743 [==============================] - 57s 5ms/step - loss: 0.9566 - accuracy: 0.6292 - val_loss: 0.9641 - val_accuracy: 0.6253\n"
          ]
        },
        {
          "output_type": "execute_result",
          "data": {
            "text/plain": [
              "<keras.src.callbacks.History at 0x78fc5256a500>"
            ]
          },
          "metadata": {},
          "execution_count": 21
        }
      ]
    },
    {
      "cell_type": "markdown",
      "source": [
        "###Shallow Layered FFNN\n"
      ],
      "metadata": {
        "id": "iehS8rf8_M0L"
      }
    },
    {
      "cell_type": "code",
      "source": [
        "df_sampled = df.sample(frac=0.2, random_state=42) #Saving only 20% randomly\n",
        "\n",
        "X = df_sampled[['x-axis', 'y-axis', 'z-axis']].values\n",
        "y = df_sampled['activity'].values\n",
        "\n",
        "y_encoded = label_encoder.fit_transform(y)\n",
        "y_onehot = to_categorical(y_encoded)\n",
        "\n",
        "X_train, X_test, y_train, y_test = train_test_split(X, y_onehot, test_size=0.2, random_state=42)\n",
        "\n",
        "model_3 = Sequential()\n",
        "model_3.add(Dense(y_onehot.shape[1], input_dim=X_train.shape[1], activation='softmax'))\n",
        "\n",
        "model_3.compile(loss='categorical_crossentropy', optimizer='adam', metrics=['accuracy'])"
      ],
      "metadata": {
        "id": "jXQ2vMMu9AH6"
      },
      "execution_count": 22,
      "outputs": []
    },
    {
      "cell_type": "code",
      "source": [
        "model_3.fit(X_train, y_train, epochs=10, batch_size=32, validation_split=0.2)"
      ],
      "metadata": {
        "colab": {
          "base_uri": "https://localhost:8080/"
        },
        "id": "aEOvnX1F_iAT",
        "outputId": "4843ee25-37a4-4088-a59c-b3a9b9565306"
      },
      "execution_count": 23,
      "outputs": [
        {
          "output_type": "stream",
          "name": "stdout",
          "text": [
            "Epoch 1/10\n",
            "4295/4295 [==============================] - 18s 4ms/step - loss: 1.9970 - accuracy: 0.4294 - val_loss: 1.4000 - val_accuracy: 0.4729\n",
            "Epoch 2/10\n",
            "4295/4295 [==============================] - 16s 4ms/step - loss: 1.4005 - accuracy: 0.4745 - val_loss: 1.3989 - val_accuracy: 0.4739\n",
            "Epoch 3/10\n",
            "4295/4295 [==============================] - 17s 4ms/step - loss: 1.4002 - accuracy: 0.4722 - val_loss: 1.4023 - val_accuracy: 0.4675\n",
            "Epoch 4/10\n",
            "4295/4295 [==============================] - 19s 4ms/step - loss: 1.4004 - accuracy: 0.4742 - val_loss: 1.3995 - val_accuracy: 0.4719\n",
            "Epoch 5/10\n",
            "4295/4295 [==============================] - 16s 4ms/step - loss: 1.4005 - accuracy: 0.4732 - val_loss: 1.3983 - val_accuracy: 0.4737\n",
            "Epoch 6/10\n",
            "4295/4295 [==============================] - 16s 4ms/step - loss: 1.4005 - accuracy: 0.4741 - val_loss: 1.4001 - val_accuracy: 0.4725\n",
            "Epoch 7/10\n",
            "4295/4295 [==============================] - 17s 4ms/step - loss: 1.4006 - accuracy: 0.4748 - val_loss: 1.3988 - val_accuracy: 0.4728\n",
            "Epoch 8/10\n",
            "4295/4295 [==============================] - 16s 4ms/step - loss: 1.4005 - accuracy: 0.4734 - val_loss: 1.3986 - val_accuracy: 0.4706\n",
            "Epoch 9/10\n",
            "4295/4295 [==============================] - 16s 4ms/step - loss: 1.4004 - accuracy: 0.4741 - val_loss: 1.3990 - val_accuracy: 0.4768\n",
            "Epoch 10/10\n",
            "4295/4295 [==============================] - 16s 4ms/step - loss: 1.4005 - accuracy: 0.4733 - val_loss: 1.3988 - val_accuracy: 0.4658\n"
          ]
        },
        {
          "output_type": "execute_result",
          "data": {
            "text/plain": [
              "<keras.src.callbacks.History at 0x78fc105808b0>"
            ]
          },
          "metadata": {},
          "execution_count": 23
        }
      ]
    },
    {
      "cell_type": "markdown",
      "source": [
        "###RF Model\n"
      ],
      "metadata": {
        "id": "2Li3QYq-KPPs"
      }
    },
    {
      "cell_type": "code",
      "source": [
        "from sklearn.ensemble import RandomForestClassifier\n",
        "from sklearn.metrics import accuracy_score\n",
        "\n",
        "X = df.drop(columns=['user', 'timestamp', 'activity'])\n",
        "y = df['activity']\n",
        "X_train, X_test, y_train, y_test = train_test_split(X, y, test_size=0.2, random_state=42)\n",
        "\n",
        "scaler = StandardScaler()\n",
        "X_train_scaled = scaler.fit_transform(X_train)\n",
        "X_test_scaled = scaler.transform(X_test)\n",
        "\n",
        "model_4 = RandomForestClassifier(random_state=42)\n",
        "model_4.fit(X_train_scaled, y_train)"
      ],
      "metadata": {
        "colab": {
          "base_uri": "https://localhost:8080/",
          "height": 75
        },
        "id": "5xRlKFgyKUgD",
        "outputId": "542df4c1-b5a0-4ae0-b7de-a5eb37d9cba2"
      },
      "execution_count": 30,
      "outputs": [
        {
          "output_type": "execute_result",
          "data": {
            "text/plain": [
              "RandomForestClassifier(random_state=42)"
            ],
            "text/html": [
              "<style>#sk-container-id-1 {color: black;background-color: white;}#sk-container-id-1 pre{padding: 0;}#sk-container-id-1 div.sk-toggleable {background-color: white;}#sk-container-id-1 label.sk-toggleable__label {cursor: pointer;display: block;width: 100%;margin-bottom: 0;padding: 0.3em;box-sizing: border-box;text-align: center;}#sk-container-id-1 label.sk-toggleable__label-arrow:before {content: \"▸\";float: left;margin-right: 0.25em;color: #696969;}#sk-container-id-1 label.sk-toggleable__label-arrow:hover:before {color: black;}#sk-container-id-1 div.sk-estimator:hover label.sk-toggleable__label-arrow:before {color: black;}#sk-container-id-1 div.sk-toggleable__content {max-height: 0;max-width: 0;overflow: hidden;text-align: left;background-color: #f0f8ff;}#sk-container-id-1 div.sk-toggleable__content pre {margin: 0.2em;color: black;border-radius: 0.25em;background-color: #f0f8ff;}#sk-container-id-1 input.sk-toggleable__control:checked~div.sk-toggleable__content {max-height: 200px;max-width: 100%;overflow: auto;}#sk-container-id-1 input.sk-toggleable__control:checked~label.sk-toggleable__label-arrow:before {content: \"▾\";}#sk-container-id-1 div.sk-estimator input.sk-toggleable__control:checked~label.sk-toggleable__label {background-color: #d4ebff;}#sk-container-id-1 div.sk-label input.sk-toggleable__control:checked~label.sk-toggleable__label {background-color: #d4ebff;}#sk-container-id-1 input.sk-hidden--visually {border: 0;clip: rect(1px 1px 1px 1px);clip: rect(1px, 1px, 1px, 1px);height: 1px;margin: -1px;overflow: hidden;padding: 0;position: absolute;width: 1px;}#sk-container-id-1 div.sk-estimator {font-family: monospace;background-color: #f0f8ff;border: 1px dotted black;border-radius: 0.25em;box-sizing: border-box;margin-bottom: 0.5em;}#sk-container-id-1 div.sk-estimator:hover {background-color: #d4ebff;}#sk-container-id-1 div.sk-parallel-item::after {content: \"\";width: 100%;border-bottom: 1px solid gray;flex-grow: 1;}#sk-container-id-1 div.sk-label:hover label.sk-toggleable__label {background-color: #d4ebff;}#sk-container-id-1 div.sk-serial::before {content: \"\";position: absolute;border-left: 1px solid gray;box-sizing: border-box;top: 0;bottom: 0;left: 50%;z-index: 0;}#sk-container-id-1 div.sk-serial {display: flex;flex-direction: column;align-items: center;background-color: white;padding-right: 0.2em;padding-left: 0.2em;position: relative;}#sk-container-id-1 div.sk-item {position: relative;z-index: 1;}#sk-container-id-1 div.sk-parallel {display: flex;align-items: stretch;justify-content: center;background-color: white;position: relative;}#sk-container-id-1 div.sk-item::before, #sk-container-id-1 div.sk-parallel-item::before {content: \"\";position: absolute;border-left: 1px solid gray;box-sizing: border-box;top: 0;bottom: 0;left: 50%;z-index: -1;}#sk-container-id-1 div.sk-parallel-item {display: flex;flex-direction: column;z-index: 1;position: relative;background-color: white;}#sk-container-id-1 div.sk-parallel-item:first-child::after {align-self: flex-end;width: 50%;}#sk-container-id-1 div.sk-parallel-item:last-child::after {align-self: flex-start;width: 50%;}#sk-container-id-1 div.sk-parallel-item:only-child::after {width: 0;}#sk-container-id-1 div.sk-dashed-wrapped {border: 1px dashed gray;margin: 0 0.4em 0.5em 0.4em;box-sizing: border-box;padding-bottom: 0.4em;background-color: white;}#sk-container-id-1 div.sk-label label {font-family: monospace;font-weight: bold;display: inline-block;line-height: 1.2em;}#sk-container-id-1 div.sk-label-container {text-align: center;}#sk-container-id-1 div.sk-container {/* jupyter's `normalize.less` sets `[hidden] { display: none; }` but bootstrap.min.css set `[hidden] { display: none !important; }` so we also need the `!important` here to be able to override the default hidden behavior on the sphinx rendered scikit-learn.org. See: https://github.com/scikit-learn/scikit-learn/issues/21755 */display: inline-block !important;position: relative;}#sk-container-id-1 div.sk-text-repr-fallback {display: none;}</style><div id=\"sk-container-id-1\" class=\"sk-top-container\"><div class=\"sk-text-repr-fallback\"><pre>RandomForestClassifier(random_state=42)</pre><b>In a Jupyter environment, please rerun this cell to show the HTML representation or trust the notebook. <br />On GitHub, the HTML representation is unable to render, please try loading this page with nbviewer.org.</b></div><div class=\"sk-container\" hidden><div class=\"sk-item\"><div class=\"sk-estimator sk-toggleable\"><input class=\"sk-toggleable__control sk-hidden--visually\" id=\"sk-estimator-id-1\" type=\"checkbox\" checked><label for=\"sk-estimator-id-1\" class=\"sk-toggleable__label sk-toggleable__label-arrow\">RandomForestClassifier</label><div class=\"sk-toggleable__content\"><pre>RandomForestClassifier(random_state=42)</pre></div></div></div></div></div>"
            ]
          },
          "metadata": {},
          "execution_count": 30
        }
      ]
    },
    {
      "cell_type": "markdown",
      "source": [
        "###Testing Code"
      ],
      "metadata": {
        "id": "PvbPTvwG6TDx"
      }
    },
    {
      "cell_type": "code",
      "source": [
        "#Apriori/Baseline Accuracy\n",
        "baseline = np.round(72522/182397 * 100, 2)\n",
        "print(baseline, '%') #This is the baseline accuracy"
      ],
      "metadata": {
        "colab": {
          "base_uri": "https://localhost:8080/"
        },
        "id": "jmMeJXWg1so3",
        "outputId": "4a7bc229-0805-4903-8944-e267d82964be"
      },
      "execution_count": 25,
      "outputs": [
        {
          "output_type": "stream",
          "name": "stdout",
          "text": [
            "39.76 %\n"
          ]
        }
      ]
    },
    {
      "cell_type": "code",
      "source": [
        "test_loss, test_accuracy = model.evaluate(X_test, y_test)\n",
        "print('Model_1 with 20% and dropout layers ', f'Test Loss: {test_loss}, Test Accuracy: {test_accuracy}')\n"
      ],
      "metadata": {
        "id": "lXqq4kNW0QNI",
        "colab": {
          "base_uri": "https://localhost:8080/"
        },
        "outputId": "ad92457f-8701-474e-d0dc-0be8a60df1e8"
      },
      "execution_count": 26,
      "outputs": [
        {
          "output_type": "stream",
          "name": "stdout",
          "text": [
            "1343/1343 [==============================] - 4s 3ms/step - loss: 19.0506 - accuracy: 0.2981\n",
            "Model_1 with 20% and dropout layers  Test Loss: 19.050594329833984, Test Accuracy: 0.2981487810611725\n"
          ]
        }
      ]
    },
    {
      "cell_type": "code",
      "source": [
        "test_loss_2, test_accuracy_2 = model_2.evaluate(X_test, y_test)\n",
        "print('Model_2 with 50% ', f'Test Loss: {test_loss}, Test Accuracy: {test_accuracy}')"
      ],
      "metadata": {
        "id": "mbOMjkC98iiJ",
        "colab": {
          "base_uri": "https://localhost:8080/"
        },
        "outputId": "8d55d0cf-7d49-4fa8-978e-2649188e47a0"
      },
      "execution_count": 27,
      "outputs": [
        {
          "output_type": "stream",
          "name": "stdout",
          "text": [
            "1343/1343 [==============================] - 4s 3ms/step - loss: 46.1742 - accuracy: 0.2973\n",
            "Model_2 with 50%  Test Loss: 19.050594329833984, Test Accuracy: 0.2981487810611725\n"
          ]
        }
      ]
    },
    {
      "cell_type": "code",
      "source": [
        "loss, accuracy = model_3.evaluate(X_test, y_test)\n",
        "print(f\"Test Accuracy: {accuracy}\")"
      ],
      "metadata": {
        "colab": {
          "base_uri": "https://localhost:8080/"
        },
        "id": "6nDt_d3y_-6y",
        "outputId": "ccaba63d-8bbc-4461-8ceb-993000bfca2a"
      },
      "execution_count": 28,
      "outputs": [
        {
          "output_type": "stream",
          "name": "stdout",
          "text": [
            "1343/1343 [==============================] - 4s 3ms/step - loss: 1.4033 - accuracy: 0.4665\n",
            "Test Accuracy: 0.4664570987224579\n"
          ]
        }
      ]
    },
    {
      "cell_type": "code",
      "source": [
        "y_pred = model_4.predict(X_test_scaled)\n",
        "accuracy = accuracy_score(y_test, y_pred)\n",
        "accuracy"
      ],
      "metadata": {
        "colab": {
          "base_uri": "https://localhost:8080/"
        },
        "id": "e6fueEFNKdK3",
        "outputId": "85ead1e7-fd6d-4b0c-8e5b-8d610e24009d"
      },
      "execution_count": 31,
      "outputs": [
        {
          "output_type": "execute_result",
          "data": {
            "text/plain": [
              "0.636735359180347"
            ]
          },
          "metadata": {},
          "execution_count": 31
        }
      ]
    }
  ]
}